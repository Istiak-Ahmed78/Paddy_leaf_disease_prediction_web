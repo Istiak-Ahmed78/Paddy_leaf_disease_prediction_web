{
 "cells": [
  {
   "cell_type": "code",
   "execution_count": null,
   "id": "a00af7ce",
   "metadata": {},
   "outputs": [],
   "source": [
    "import uvicorn\n",
    "from fastapi import FastAPI, File, UploadFile\n",
    "from PIL import Image\n",
    "import sklearn\n",
    "import numpy as np\n",
    "from io import BytesIO\n",
    "from skimage.transform import resize\n",
    "from skimage.io import imread\n",
    "import pickle\n",
    "import imageio as iio\n",
    "import asyncio\n",
    " "
   ]
  },
  {
   "cell_type": "code",
   "execution_count": null,
   "id": "da9d4174",
   "metadata": {},
   "outputs": [],
   "source": [
    "def load_model():\n",
    "    filename = 'peddy_lead_svm.sav'\n",
    "    loaded_model = pickle.load(open(filename, 'rb'))\n",
    "    return loaded_model"
   ]
  },
  {
   "cell_type": "code",
   "execution_count": null,
   "id": "8195af83",
   "metadata": {},
   "outputs": [],
   "source": []
  }
 ],
 "metadata": {
  "kernelspec": {
   "display_name": "Python 3",
   "language": "python",
   "name": "python3"
  }
 },
 "nbformat": 4,
 "nbformat_minor": 5
}
